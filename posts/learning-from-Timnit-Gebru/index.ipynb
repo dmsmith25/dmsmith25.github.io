{
 "cells": [
  {
   "cell_type": "raw",
   "metadata": {},
   "source": [
    "---\n",
    "title: Learning from Timnit Gebru\n",
    "author: Dean Smith\n",
    "date: '2023-04-19'\n",
    "image: \"image.jpg\"\n",
    "description: \"A reflection of what I have learned from Timnit Gebru's experience and talk with our class.\"\n",
    "format: html\n",
    "---"
   ]
  },
  {
   "attachments": {},
   "cell_type": "markdown",
   "metadata": {},
   "source": [
    "# Learning from Timnit Gebru"
   ]
  },
  {
   "attachments": {},
   "cell_type": "markdown",
   "metadata": {},
   "source": [
    "Introduction"
   ]
  },
  {
   "attachments": {},
   "cell_type": "markdown",
   "metadata": {},
   "source": [
    "Dr. Timnit Gebru is a renowned computer and data scientist who has been instrumental in the recent push for ethical AI practices. Dr. Gebru immigrated from Ethiopia to the United States where she studied electrical engineering and received her PhD in computer vision at Stanford University.\n",
    "\n",
    "\n",
    "After school, Dr. Gebru had an incredibly successful career working with electrical hardware for big tech companies including Apple, Microsoft, and Google. Her departure from Google came after leaders in Google's AI department refused to implement her requests for fair, unbiased, and ethical AI practices.\n",
    "\n",
    "\n",
    "As an African woman in a field dominated by white men, Dr. Gebru's perspective and work with Black in AI have pointed out numerous flaws and biases in big tech companies' AI practices. Dr. Gebru's work and bravery is truly inspiring and we are so thankful she has taken the time to speak with us.\n"
   ]
  },
  {
   "attachments": {},
   "cell_type": "markdown",
   "metadata": {},
   "source": [
    "2020 Conference Talk Summary"
   ]
  },
  {
   "attachments": {},
   "cell_type": "markdown",
   "metadata": {},
   "source": [
    "Throughout the talk, Dr. Gebru points out various flaws with AI systems that are used to make life-changing decisions. The flaws she points out vary from how the data was collected to the purpose of the model itself. In many instances, companies gather data of people without their consent or use these models to infringe on people's rights.\n",
    "\n",
    "\n",
    "Dr. Gebru also talks about her experience as an African woman in a field dominated by white men. She references boards of AI directors and pictures of conferences. In this way, Dr. Gebru is able to rationalize why some of these biases exist in these systems. It is clear to see why Dr. Gebru's work has been so impactful given the lack of perspective in the computer science world.\n",
    "\n",
    "\n",
    "Dr. Gebru also touches on the ignorance to blindly trust AI especially in situations where the decisions it is making are life-altering. An area she focuses on is law enforcement and when it comes to convictions or facial recognition, law enforcement is trusting the advice of AI more than it should.\n"
   ]
  },
  {
   "attachments": {},
   "cell_type": "markdown",
   "metadata": {},
   "source": [
    "Questions:"
   ]
  },
  {
   "attachments": {},
   "cell_type": "markdown",
   "metadata": {},
   "source": [
    "- As aspiring computer/data scientists, what is one thing we can do to help fight these biases in AI?\n",
    "- In our class we have talked about how taking different statistics can lead to different conclusions about AI systems. During your Tutorial on FATE in Computer Vision talk in 2020, you referenced that there should be a regulatory agent like the FDA to monitor these systems. Is there any way we can ensure that such an agent does not add further bias to the problem?"
   ]
  }
 ],
 "metadata": {
  "kernelspec": {
   "display_name": "Python 3.9.15 ('ml-0451')",
   "language": "python",
   "name": "python3"
  },
  "language_info": {
   "codemirror_mode": {
    "name": "ipython",
    "version": 3
   },
   "file_extension": ".py",
   "mimetype": "text/x-python",
   "name": "python",
   "nbconvert_exporter": "python",
   "pygments_lexer": "ipython3",
   "version": "3.9.15"
  },
  "orig_nbformat": 4,
  "vscode": {
   "interpreter": {
    "hash": "debe06cc0f9553f110b64dc3926c05df82dae2145b852c8422b9c04315589dcb"
   }
  }
 },
 "nbformat": 4,
 "nbformat_minor": 2
}
