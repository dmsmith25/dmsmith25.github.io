{
 "cells": [
  {
   "attachments": {},
   "cell_type": "markdown",
   "metadata": {},
   "source": [
    "---\n",
    "title: Allocative Bias Blog\n",
    "author: Dean Smith\n",
    "date: '2023-5-9'\n",
    "image: \"penguins.png\"\n",
    "description: \"In this blog post, I use New Jersey employment data to build a machine learning model and examine the model for potential bias. \"\n",
    "format: html\n",
    "---"
   ]
  },
  {
   "attachments": {},
   "cell_type": "markdown",
   "metadata": {},
   "source": [
    "# Auditing Allocative Bias"
   ]
  },
  {
   "attachments": {},
   "cell_type": "markdown",
   "metadata": {},
   "source": [
    "In this blog post I will perform a bias audit on an imported dataset of employment data for people in New Jersey. Throughout my audit, I will clean the data, group my data, find statistical values PPV, FNR, and FPR, lastly, I will do a calibration analysis and then conclude with a discussion."
   ]
  },
  {
   "attachments": {},
   "cell_type": "markdown",
   "metadata": {},
   "source": [
    "First, I import my dataset and packages I need for my research."
   ]
  },
  {
   "cell_type": "code",
   "execution_count": 1,
   "metadata": {},
   "outputs": [
    {
     "data": {
      "text/html": [
       "<div>\n",
       "<style scoped>\n",
       "    .dataframe tbody tr th:only-of-type {\n",
       "        vertical-align: middle;\n",
       "    }\n",
       "\n",
       "    .dataframe tbody tr th {\n",
       "        vertical-align: top;\n",
       "    }\n",
       "\n",
       "    .dataframe thead th {\n",
       "        text-align: right;\n",
       "    }\n",
       "</style>\n",
       "<table border=\"1\" class=\"dataframe\">\n",
       "  <thead>\n",
       "    <tr style=\"text-align: right;\">\n",
       "      <th></th>\n",
       "      <th>RT</th>\n",
       "      <th>SERIALNO</th>\n",
       "      <th>DIVISION</th>\n",
       "      <th>SPORDER</th>\n",
       "      <th>PUMA</th>\n",
       "      <th>REGION</th>\n",
       "      <th>ST</th>\n",
       "      <th>ADJINC</th>\n",
       "      <th>PWGTP</th>\n",
       "      <th>AGEP</th>\n",
       "      <th>...</th>\n",
       "      <th>PWGTP71</th>\n",
       "      <th>PWGTP72</th>\n",
       "      <th>PWGTP73</th>\n",
       "      <th>PWGTP74</th>\n",
       "      <th>PWGTP75</th>\n",
       "      <th>PWGTP76</th>\n",
       "      <th>PWGTP77</th>\n",
       "      <th>PWGTP78</th>\n",
       "      <th>PWGTP79</th>\n",
       "      <th>PWGTP80</th>\n",
       "    </tr>\n",
       "  </thead>\n",
       "  <tbody>\n",
       "    <tr>\n",
       "      <th>0</th>\n",
       "      <td>P</td>\n",
       "      <td>2018GQ0000003</td>\n",
       "      <td>2</td>\n",
       "      <td>1</td>\n",
       "      <td>2302</td>\n",
       "      <td>1</td>\n",
       "      <td>34</td>\n",
       "      <td>1013097</td>\n",
       "      <td>12</td>\n",
       "      <td>23</td>\n",
       "      <td>...</td>\n",
       "      <td>23</td>\n",
       "      <td>3</td>\n",
       "      <td>12</td>\n",
       "      <td>2</td>\n",
       "      <td>3</td>\n",
       "      <td>14</td>\n",
       "      <td>12</td>\n",
       "      <td>13</td>\n",
       "      <td>12</td>\n",
       "      <td>2</td>\n",
       "    </tr>\n",
       "    <tr>\n",
       "      <th>1</th>\n",
       "      <td>P</td>\n",
       "      <td>2018GQ0000017</td>\n",
       "      <td>2</td>\n",
       "      <td>1</td>\n",
       "      <td>1800</td>\n",
       "      <td>1</td>\n",
       "      <td>34</td>\n",
       "      <td>1013097</td>\n",
       "      <td>11</td>\n",
       "      <td>51</td>\n",
       "      <td>...</td>\n",
       "      <td>19</td>\n",
       "      <td>2</td>\n",
       "      <td>9</td>\n",
       "      <td>9</td>\n",
       "      <td>19</td>\n",
       "      <td>10</td>\n",
       "      <td>19</td>\n",
       "      <td>19</td>\n",
       "      <td>2</td>\n",
       "      <td>10</td>\n",
       "    </tr>\n",
       "    <tr>\n",
       "      <th>2</th>\n",
       "      <td>P</td>\n",
       "      <td>2018GQ0000122</td>\n",
       "      <td>2</td>\n",
       "      <td>1</td>\n",
       "      <td>2104</td>\n",
       "      <td>1</td>\n",
       "      <td>34</td>\n",
       "      <td>1013097</td>\n",
       "      <td>24</td>\n",
       "      <td>69</td>\n",
       "      <td>...</td>\n",
       "      <td>45</td>\n",
       "      <td>22</td>\n",
       "      <td>45</td>\n",
       "      <td>2</td>\n",
       "      <td>3</td>\n",
       "      <td>24</td>\n",
       "      <td>24</td>\n",
       "      <td>23</td>\n",
       "      <td>44</td>\n",
       "      <td>1</td>\n",
       "    </tr>\n",
       "    <tr>\n",
       "      <th>3</th>\n",
       "      <td>P</td>\n",
       "      <td>2018GQ0000131</td>\n",
       "      <td>2</td>\n",
       "      <td>1</td>\n",
       "      <td>800</td>\n",
       "      <td>1</td>\n",
       "      <td>34</td>\n",
       "      <td>1013097</td>\n",
       "      <td>90</td>\n",
       "      <td>18</td>\n",
       "      <td>...</td>\n",
       "      <td>95</td>\n",
       "      <td>96</td>\n",
       "      <td>158</td>\n",
       "      <td>96</td>\n",
       "      <td>14</td>\n",
       "      <td>145</td>\n",
       "      <td>157</td>\n",
       "      <td>15</td>\n",
       "      <td>88</td>\n",
       "      <td>156</td>\n",
       "    </tr>\n",
       "    <tr>\n",
       "      <th>4</th>\n",
       "      <td>P</td>\n",
       "      <td>2018GQ0000134</td>\n",
       "      <td>2</td>\n",
       "      <td>1</td>\n",
       "      <td>1700</td>\n",
       "      <td>1</td>\n",
       "      <td>34</td>\n",
       "      <td>1013097</td>\n",
       "      <td>68</td>\n",
       "      <td>89</td>\n",
       "      <td>...</td>\n",
       "      <td>6</td>\n",
       "      <td>67</td>\n",
       "      <td>68</td>\n",
       "      <td>69</td>\n",
       "      <td>6</td>\n",
       "      <td>123</td>\n",
       "      <td>131</td>\n",
       "      <td>132</td>\n",
       "      <td>127</td>\n",
       "      <td>68</td>\n",
       "    </tr>\n",
       "  </tbody>\n",
       "</table>\n",
       "<p>5 rows × 286 columns</p>\n",
       "</div>"
      ],
      "text/plain": [
       "  RT       SERIALNO  DIVISION  SPORDER  PUMA  REGION  ST   ADJINC  PWGTP  \\\n",
       "0  P  2018GQ0000003         2        1  2302       1  34  1013097     12   \n",
       "1  P  2018GQ0000017         2        1  1800       1  34  1013097     11   \n",
       "2  P  2018GQ0000122         2        1  2104       1  34  1013097     24   \n",
       "3  P  2018GQ0000131         2        1   800       1  34  1013097     90   \n",
       "4  P  2018GQ0000134         2        1  1700       1  34  1013097     68   \n",
       "\n",
       "   AGEP  ...  PWGTP71  PWGTP72  PWGTP73  PWGTP74  PWGTP75  PWGTP76  PWGTP77  \\\n",
       "0    23  ...       23        3       12        2        3       14       12   \n",
       "1    51  ...       19        2        9        9       19       10       19   \n",
       "2    69  ...       45       22       45        2        3       24       24   \n",
       "3    18  ...       95       96      158       96       14      145      157   \n",
       "4    89  ...        6       67       68       69        6      123      131   \n",
       "\n",
       "   PWGTP78  PWGTP79  PWGTP80  \n",
       "0       13       12        2  \n",
       "1       19        2       10  \n",
       "2       23       44        1  \n",
       "3       15       88      156  \n",
       "4      132      127       68  \n",
       "\n",
       "[5 rows x 286 columns]"
      ]
     },
     "execution_count": 1,
     "metadata": {},
     "output_type": "execute_result"
    }
   ],
   "source": [
    "from folktables import ACSDataSource, ACSIncome, BasicProblem, adult_filter\n",
    "import numpy as np\n",
    "\n",
    "STATE = \"NJ\"\n",
    "\n",
    "data_source = ACSDataSource(survey_year='2018', \n",
    "                            horizon='1-Year', \n",
    "                            survey='person')\n",
    "\n",
    "acs_data = data_source.get_data(states=[STATE], download=True)\n",
    "\n",
    "acs_data.head()"
   ]
  },
  {
   "attachments": {},
   "cell_type": "markdown",
   "metadata": {},
   "source": [
    "There is a lot of data here. I only want to use relevent features here so I will go ahead and clean my data."
   ]
  },
  {
   "cell_type": "code",
   "execution_count": 2,
   "metadata": {},
   "outputs": [
    {
     "data": {
      "text/html": [
       "<div>\n",
       "<style scoped>\n",
       "    .dataframe tbody tr th:only-of-type {\n",
       "        vertical-align: middle;\n",
       "    }\n",
       "\n",
       "    .dataframe tbody tr th {\n",
       "        vertical-align: top;\n",
       "    }\n",
       "\n",
       "    .dataframe thead th {\n",
       "        text-align: right;\n",
       "    }\n",
       "</style>\n",
       "<table border=\"1\" class=\"dataframe\">\n",
       "  <thead>\n",
       "    <tr style=\"text-align: right;\">\n",
       "      <th></th>\n",
       "      <th>AGEP</th>\n",
       "      <th>SCHL</th>\n",
       "      <th>MAR</th>\n",
       "      <th>RELP</th>\n",
       "      <th>DIS</th>\n",
       "      <th>ESP</th>\n",
       "      <th>CIT</th>\n",
       "      <th>MIG</th>\n",
       "      <th>MIL</th>\n",
       "      <th>ANC</th>\n",
       "      <th>NATIVITY</th>\n",
       "      <th>DEAR</th>\n",
       "      <th>DEYE</th>\n",
       "      <th>DREM</th>\n",
       "      <th>SEX</th>\n",
       "      <th>RAC1P</th>\n",
       "      <th>ESR</th>\n",
       "    </tr>\n",
       "  </thead>\n",
       "  <tbody>\n",
       "    <tr>\n",
       "      <th>0</th>\n",
       "      <td>23</td>\n",
       "      <td>21.0</td>\n",
       "      <td>5</td>\n",
       "      <td>17</td>\n",
       "      <td>2</td>\n",
       "      <td>NaN</td>\n",
       "      <td>5</td>\n",
       "      <td>2.0</td>\n",
       "      <td>4.0</td>\n",
       "      <td>1</td>\n",
       "      <td>2</td>\n",
       "      <td>2</td>\n",
       "      <td>2</td>\n",
       "      <td>2.0</td>\n",
       "      <td>1</td>\n",
       "      <td>6</td>\n",
       "      <td>6.0</td>\n",
       "    </tr>\n",
       "    <tr>\n",
       "      <th>1</th>\n",
       "      <td>51</td>\n",
       "      <td>20.0</td>\n",
       "      <td>4</td>\n",
       "      <td>17</td>\n",
       "      <td>2</td>\n",
       "      <td>NaN</td>\n",
       "      <td>4</td>\n",
       "      <td>1.0</td>\n",
       "      <td>4.0</td>\n",
       "      <td>1</td>\n",
       "      <td>2</td>\n",
       "      <td>2</td>\n",
       "      <td>2</td>\n",
       "      <td>2.0</td>\n",
       "      <td>1</td>\n",
       "      <td>1</td>\n",
       "      <td>1.0</td>\n",
       "    </tr>\n",
       "    <tr>\n",
       "      <th>2</th>\n",
       "      <td>69</td>\n",
       "      <td>19.0</td>\n",
       "      <td>3</td>\n",
       "      <td>16</td>\n",
       "      <td>1</td>\n",
       "      <td>NaN</td>\n",
       "      <td>1</td>\n",
       "      <td>1.0</td>\n",
       "      <td>4.0</td>\n",
       "      <td>4</td>\n",
       "      <td>1</td>\n",
       "      <td>2</td>\n",
       "      <td>2</td>\n",
       "      <td>2.0</td>\n",
       "      <td>1</td>\n",
       "      <td>1</td>\n",
       "      <td>6.0</td>\n",
       "    </tr>\n",
       "    <tr>\n",
       "      <th>3</th>\n",
       "      <td>18</td>\n",
       "      <td>16.0</td>\n",
       "      <td>5</td>\n",
       "      <td>16</td>\n",
       "      <td>1</td>\n",
       "      <td>NaN</td>\n",
       "      <td>1</td>\n",
       "      <td>1.0</td>\n",
       "      <td>4.0</td>\n",
       "      <td>2</td>\n",
       "      <td>1</td>\n",
       "      <td>2</td>\n",
       "      <td>2</td>\n",
       "      <td>1.0</td>\n",
       "      <td>2</td>\n",
       "      <td>9</td>\n",
       "      <td>6.0</td>\n",
       "    </tr>\n",
       "    <tr>\n",
       "      <th>4</th>\n",
       "      <td>89</td>\n",
       "      <td>19.0</td>\n",
       "      <td>2</td>\n",
       "      <td>16</td>\n",
       "      <td>1</td>\n",
       "      <td>NaN</td>\n",
       "      <td>1</td>\n",
       "      <td>1.0</td>\n",
       "      <td>4.0</td>\n",
       "      <td>4</td>\n",
       "      <td>1</td>\n",
       "      <td>2</td>\n",
       "      <td>2</td>\n",
       "      <td>1.0</td>\n",
       "      <td>2</td>\n",
       "      <td>1</td>\n",
       "      <td>6.0</td>\n",
       "    </tr>\n",
       "  </tbody>\n",
       "</table>\n",
       "</div>"
      ],
      "text/plain": [
       "   AGEP  SCHL  MAR  RELP  DIS  ESP  CIT  MIG  MIL  ANC  NATIVITY  DEAR  DEYE  \\\n",
       "0    23  21.0    5    17    2  NaN    5  2.0  4.0    1         2     2     2   \n",
       "1    51  20.0    4    17    2  NaN    4  1.0  4.0    1         2     2     2   \n",
       "2    69  19.0    3    16    1  NaN    1  1.0  4.0    4         1     2     2   \n",
       "3    18  16.0    5    16    1  NaN    1  1.0  4.0    2         1     2     2   \n",
       "4    89  19.0    2    16    1  NaN    1  1.0  4.0    4         1     2     2   \n",
       "\n",
       "   DREM  SEX  RAC1P  ESR  \n",
       "0   2.0    1      6  6.0  \n",
       "1   2.0    1      1  1.0  \n",
       "2   2.0    1      1  6.0  \n",
       "3   1.0    2      9  6.0  \n",
       "4   1.0    2      1  6.0  "
      ]
     },
     "execution_count": 2,
     "metadata": {},
     "output_type": "execute_result"
    }
   ],
   "source": [
    "possible_features=['AGEP', 'SCHL', 'MAR', 'RELP', 'DIS', 'ESP', 'CIT', 'MIG', 'MIL', 'ANC', 'NATIVITY', 'DEAR', 'DEYE', 'DREM', 'SEX', 'RAC1P', 'ESR']\n",
    "acs_data[possible_features].head()\n",
    "\n"
   ]
  },
  {
   "attachments": {},
   "cell_type": "markdown",
   "metadata": {},
   "source": [
    "I don't want to include Race or Employment status in my features so I will leave those out and get my features, labels, and group (Race)."
   ]
  },
  {
   "cell_type": "code",
   "execution_count": 3,
   "metadata": {},
   "outputs": [],
   "source": [
    "features_to_use = [f for f in possible_features if f not in ['RAC1P', \"ESR\"]]\n",
    "\n",
    "EmploymentProblem = BasicProblem(\n",
    "    features=features_to_use,\n",
    "    target='ESR',\n",
    "    target_transform=lambda x: x == 1,\n",
    "    group='RAC1P',\n",
    "    preprocess=lambda x: x,\n",
    "    postprocess=lambda x: np.nan_to_num(x, -1),\n",
    ")\n",
    "\n",
    "features, label, group = EmploymentProblem.df_to_numpy(acs_data)"
   ]
  },
  {
   "attachments": {},
   "cell_type": "markdown",
   "metadata": {},
   "source": [
    "Lets see the shape of our features and the size of our dataset."
   ]
  },
  {
   "cell_type": "code",
   "execution_count": 4,
   "metadata": {},
   "outputs": [
    {
     "name": "stdout",
     "output_type": "stream",
     "text": [
      "(88586, 15)\n",
      "(88586,)\n",
      "(88586,)\n"
     ]
    }
   ],
   "source": [
    "for obj in [features, label, group]:\n",
    "  print(obj.shape)"
   ]
  },
  {
   "attachments": {},
   "cell_type": "markdown",
   "metadata": {},
   "source": [
    "Now lets do a test/train split."
   ]
  },
  {
   "cell_type": "code",
   "execution_count": 5,
   "metadata": {},
   "outputs": [],
   "source": [
    "from sklearn.model_selection import train_test_split\n",
    "X_train, X_test, y_train, y_test, group_train, group_test = train_test_split(\n",
    "    features, label, group, test_size=0.2, random_state=0)"
   ]
  },
  {
   "attachments": {},
   "cell_type": "markdown",
   "metadata": {},
   "source": [
    "Here, we put back our group (race) to groupby and our labels (employment status)."
   ]
  },
  {
   "cell_type": "code",
   "execution_count": 6,
   "metadata": {},
   "outputs": [
    {
     "data": {
      "text/plain": [
       "70868"
      ]
     },
     "execution_count": 6,
     "metadata": {},
     "output_type": "execute_result"
    }
   ],
   "source": [
    "import pandas as pd\n",
    "df = pd.DataFrame(X_train, columns = features_to_use)\n",
    "df[\"group\"] = group_train\n",
    "df[\"label\"] = y_train\n",
    "\n",
    "len(df)"
   ]
  },
  {
   "attachments": {},
   "cell_type": "markdown",
   "metadata": {},
   "source": [
    "From the output of the code cell below, we can see that about 48% of individuals in our training data are employed."
   ]
  },
  {
   "cell_type": "code",
   "execution_count": 7,
   "metadata": {},
   "outputs": [
    {
     "data": {
      "text/plain": [
       "0.48490150702714907"
      ]
     },
     "execution_count": 7,
     "metadata": {},
     "output_type": "execute_result"
    }
   ],
   "source": [
    "df[\"label\"].mean()"
   ]
  },
  {
   "attachments": {},
   "cell_type": "markdown",
   "metadata": {},
   "source": [
    "Now, lets see how many people are in each racial group in our training data. Race group 1 is white, race group 2 is black, and the rest are other self-identified racial groups."
   ]
  },
  {
   "cell_type": "code",
   "execution_count": 8,
   "metadata": {},
   "outputs": [
    {
     "data": {
      "text/plain": [
       "group\n",
       "1    51004\n",
       "2     7419\n",
       "3      114\n",
       "4        2\n",
       "5       62\n",
       "6     7230\n",
       "7       24\n",
       "8     3233\n",
       "9     1780\n",
       "dtype: int64"
      ]
     },
     "execution_count": 8,
     "metadata": {},
     "output_type": "execute_result"
    }
   ],
   "source": [
    "df.groupby(\"group\").size()"
   ]
  },
  {
   "attachments": {},
   "cell_type": "markdown",
   "metadata": {},
   "source": [
    "Likewise, lets see what the employment rate for each racial group is."
   ]
  },
  {
   "cell_type": "code",
   "execution_count": 9,
   "metadata": {},
   "outputs": [
    {
     "data": {
      "text/plain": [
       "group\n",
       "1    0.495334\n",
       "2    0.427281\n",
       "3    0.464912\n",
       "4    0.000000\n",
       "5    0.467742\n",
       "6    0.500000\n",
       "7    0.541667\n",
       "8    0.480359\n",
       "9    0.374719\n",
       "Name: label, dtype: float64"
      ]
     },
     "execution_count": 9,
     "metadata": {},
     "output_type": "execute_result"
    }
   ],
   "source": [
    "df.groupby(\"group\")[\"label\"].mean()"
   ]
  },
  {
   "attachments": {},
   "cell_type": "markdown",
   "metadata": {},
   "source": [
    "Now lets visualize this data in a bar graph where we also show the different sex groups within the racial groups. Sex group 1 is male and sex group 2 is female."
   ]
  },
  {
   "cell_type": "code",
   "execution_count": 10,
   "metadata": {},
   "outputs": [
    {
     "data": {
      "text/plain": [
       "<Axes: xlabel='group', ylabel='mean'>"
      ]
     },
     "execution_count": 10,
     "metadata": {},
     "output_type": "execute_result"
    },
    {
     "data": {
      "image/png": "[encoded data removed]",
      "text/plain": [
       "<Figure size 432x288 with 1 Axes>"
      ]
     },
     "metadata": {
      "needs_background": "light"
     },
     "output_type": "display_data"
    }
   ],
   "source": [
    "import seaborn as sns\n",
    "counts = df.groupby([\"group\", \"SEX\"])[\"label\"].mean().reset_index(name = \"mean\")\n",
    "sns.barplot(data = counts, x = \"group\", y = \"mean\", hue = \"SEX\")"
   ]
  },
  {
   "attachments": {},
   "cell_type": "markdown",
   "metadata": {},
   "source": [
    "In the code cell below, we train our Logistic Regression model and see which number of polynomial features works best."
   ]
  },
  {
   "cell_type": "code",
   "execution_count": 11,
   "metadata": {},
   "outputs": [
    {
     "name": "stdout",
     "output_type": "stream",
     "text": [
      "Degree of 0 -> Training Accuracy = 0.5150984929728509\n",
      "Degree of 1 -> Training Accuracy = 0.7809730767059886\n",
      "Degree of 2 -> Training Accuracy = 0.8139639893887227\n",
      "Degree of 3 -> Training Accuracy = 0.812270700457188\n",
      "Best Degree for Model: 2\n"
     ]
    }
   ],
   "source": [
    "from sklearn.linear_model import LogisticRegression\n",
    "from sklearn.pipeline import Pipeline\n",
    "from sklearn.metrics import confusion_matrix\n",
    "from sklearn.preprocessing import PolynomialFeatures\n",
    "import warnings\n",
    "\n",
    "best_model = []\n",
    "best_score = -1\n",
    "best_dgegree = 0\n",
    "\n",
    "with warnings.catch_warnings():\n",
    "    warnings.simplefilter(\"ignore\")\n",
    "    for deg in range(0, 4):\n",
    "\n",
    "        polynomial_logistic = Pipeline([\n",
    "            ('poly', PolynomialFeatures(degree=deg)),\n",
    "            ('logistic', LogisticRegression())\n",
    "        ])\n",
    "\n",
    "        iter_model = polynomial_logistic.fit(X_train, y_train)\n",
    "\n",
    "        acc = iter_model.score(X_train, y_train)\n",
    "\n",
    "        print(\"Degree of \" + str(deg) + \" -> Training Accuracy = \" + str(acc))\n",
    "\n",
    "        if acc > best_score:\n",
    "            best_score = acc\n",
    "            best_degree = deg\n",
    "            best_model.append(iter_model)\n",
    "\n",
    "print(\"Best Degree for Model: \" + str(best_degree))\n",
    "\n",
    "model = best_model[-1]\n"
   ]
  },
  {
   "attachments": {},
   "cell_type": "markdown",
   "metadata": {},
   "source": [
    "Now lets get our model predictions for our testing data"
   ]
  },
  {
   "cell_type": "code",
   "execution_count": 12,
   "metadata": {},
   "outputs": [],
   "source": [
    "y_hat = model.predict(X_test)"
   ]
  },
  {
   "attachments": {},
   "cell_type": "markdown",
   "metadata": {},
   "source": [
    "And now we see our model had a total accuracy of about 82%!"
   ]
  },
  {
   "cell_type": "code",
   "execution_count": 13,
   "metadata": {},
   "outputs": [
    {
     "data": {
      "text/plain": [
       "0.818828310193024"
      ]
     },
     "execution_count": 13,
     "metadata": {},
     "output_type": "execute_result"
    }
   ],
   "source": [
    "(y_hat == y_test).mean()"
   ]
  },
  {
   "attachments": {},
   "cell_type": "markdown",
   "metadata": {},
   "source": [
    "Below, we utilize a confusion matrix to get our model's PPV, FNR, and FPR."
   ]
  },
  {
   "cell_type": "code",
   "execution_count": 14,
   "metadata": {},
   "outputs": [
    {
     "name": "stdout",
     "output_type": "stream",
     "text": [
      "PPV: 0.782381539141843\n",
      "FNR: 0.11033274956217162\n",
      "FPR: 0.24745984922976075\n"
     ]
    }
   ],
   "source": [
    "tn, fp, fn, tp = confusion_matrix(y_test, y_hat, normalize='true').ravel()\n",
    "ppv = tp / (tp + fp)\n",
    "fnr = fn / (fn + tp)\n",
    "fpr = fp / (fp + tn)\n",
    "\n",
    "print(\"PPV: \" + str(ppv))\n",
    "print(\"FNR: \" + str(fnr))\n",
    "print(\"FPR: \" + str(fpr))"
   ]
  },
  {
   "attachments": {},
   "cell_type": "markdown",
   "metadata": {},
   "source": [
    "Now lets see what our model's accuracy, PPV, FNR, and FPR are for both our white racial group and our black racial group."
   ]
  },
  {
   "cell_type": "code",
   "execution_count": 15,
   "metadata": {},
   "outputs": [
    {
     "name": "stdout",
     "output_type": "stream",
     "text": [
      "Group 1 overall accuracy: 0.8214816553234765 | PPV: 0.7868854900189419 | FNR: 0.11488750598372427 | FPR: 0.23971761817065684\n",
      "\n",
      "Group 2 overall accuracy: 0.7940854326396495 | PPV: 0.7713154050034134 | FNR: 0.14140127388535031 | FPR: 0.25456292026897215\n",
      "\n",
      "Group 3 overall accuracy: 0.7142857142857143 | PPV: 0.6341463414634146 | FNR: 0.06666666666666667 | FPR: 0.5384615384615384\n",
      "\n",
      "Group 4 does not have sufficient enough data.\n",
      "\n",
      "Group 5 overall accuracy: 0.75 | PPV: 0.7368421052631579 | FNR: 0.2 | FPR: 0.2857142857142857\n",
      "\n",
      "Group 6 overall accuracy: 0.8223463687150838 | PPV: 0.750542721217512 | FNR: 0.04951560818083961 | FPR: 0.3159117305458769\n",
      "\n",
      "Group 7 overall accuracy: 0.75 | PPV: 0.6666666666666666 | FNR: 0.0 | FPR: 0.5\n",
      "\n",
      "Group 8 overall accuracy: 0.8109090909090909 | PPV: 0.7768496420047734 | FNR: 0.11764705882352941 | FPR: 0.2534562211981567\n",
      "\n",
      "Group 9 overall accuracy: 0.8526785714285714 | PPV: 0.8417080876582216 | FNR: 0.11695906432748537 | FPR: 0.16606498194945848\n",
      "\n"
     ]
    }
   ],
   "source": [
    "for group in range(1, 10):\n",
    "    try:\n",
    "        overall_acc = (y_hat == y_test)[group_test == group].mean()\n",
    "        test = y_test[group_test == group]\n",
    "        pred = y_hat[group_test == group]\n",
    "        tn, fp, fn, tp = confusion_matrix(test, pred, normalize='true').ravel()\n",
    "        ppv = tp / (tp + fp)\n",
    "        fnr = fn / (fn + tp)\n",
    "        fpr = fp / (fp + tn)\n",
    "\n",
    "        print(\"Group \" + str(group) + \" overall accuracy: \" + str(overall_acc)+ \" | PPV: \" + str(ppv) + \" | FNR: \" + str(fnr) + \" | FPR: \" + str(fpr) + \"\\n\")\n",
    "    except:\n",
    "        print(\"Group \" + str(group) + \" does not have sufficient enough data.\\n\")\n",
    "\n",
    "\n"
   ]
  },
  {
   "attachments": {},
   "cell_type": "markdown",
   "metadata": {},
   "source": [
    "As we can see, the model performs worse when dealing with black individuals as compared to white individuals. Additionally, the model performs better on white individuals than the total model average and worse on black individuals compared to the models average. However, the model had a higher PPV than the models average when predicting white individuals and a lower PPV when predicting black individuals. This means that when the model guesses that a white person is employed, the model correctly guesses it more than the average, but when the model guesses that a black person is employed, the model predicts worse than the average. In contrast, for black individuals, the model has a slightly higher FNR than the average meaning that when the model predicts a black person is unemployed then the model predicts wrong more than the average while the model's FNR for white indiviuals is about the average. Lastly, the FPR for black individuals is higher than the model's average and the FPR for white individuals is lower than the model's average. This means that when the model guesses someone is employed the person is really unemployed more often for black individuals than white individuals.\n",
    "\n",
    "I can say with reasonable confidence that this model satisfies the error rate balance because despite true positives being slightly lower and false negatives being higher for black individuals, our model has higher false positives for black individuals. \n",
    "\n",
    "I believe this model also satisfies statistical parity because in our dataset white individuals have a higher employment rate than black individuals. This aligns with our findings because the FPR for black individuals is higher than white individuals and the PPV for white individuals is higher than black individuals be almost the same margin. "
   ]
  },
  {
   "attachments": {},
   "cell_type": "markdown",
   "metadata": {},
   "source": [
    "Here, we put some data into our test dataframe for graphing later."
   ]
  },
  {
   "cell_type": "code",
   "execution_count": 16,
   "metadata": {},
   "outputs": [
    {
     "data": {
      "text/plain": [
       "70868"
      ]
     },
     "execution_count": 16,
     "metadata": {},
     "output_type": "execute_result"
    }
   ],
   "source": [
    "import pandas as pd\n",
    "df_test = pd.DataFrame(X_test, columns = features_to_use)\n",
    "df_test[\"group\"] = group_test\n",
    "df_test[\"label\"] = y_test\n",
    "df_test[\"prediction\"] = y_hat\n",
    "\n",
    "len(df)"
   ]
  },
  {
   "attachments": {},
   "cell_type": "markdown",
   "metadata": {},
   "source": [
    "Now lets see if our model is calibrated."
   ]
  },
  {
   "cell_type": "code",
   "execution_count": 17,
   "metadata": {},
   "outputs": [
    {
     "data": {
      "text/plain": [
       "<Axes: xlabel='prediction', ylabel='mean'>"
      ]
     },
     "execution_count": 17,
     "metadata": {},
     "output_type": "execute_result"
    },
    {
     "data": {
      "image/png": "[encoded data removed]",
      "text/plain": [
       "<Figure size 432x288 with 1 Axes>"
      ]
     },
     "metadata": {
      "needs_background": "light"
     },
     "output_type": "display_data"
    }
   ],
   "source": [
    "df_test = df_test[df_test[\"group\"] < 3]\n",
    "\n",
    "means = df_test.groupby([\"group\", \"prediction\"])[\"label\"].mean().reset_index(name = \"mean\")\n",
    "sns.lineplot(data = means, x = \"prediction\", y = \"mean\", hue = \"group\")"
   ]
  },
  {
   "cell_type": "code",
   "execution_count": 22,
   "metadata": {},
   "outputs": [
    {
     "data": {
      "image/png": "[encoded data removed]",
      "text/plain": [
       "<Figure size 432x288 with 1 Axes>"
      ]
     },
     "metadata": {
      "needs_background": "light"
     },
     "output_type": "display_data"
    }
   ],
   "source": [
    "df_test[\"employed\"] = df_test[\"prediction\"] == 1\n",
    "\n",
    "means = df_test.groupby([\"group\", \"employed\"])[\"label\"].mean().reset_index(name = \"mean\")\n",
    "\n",
    "p = sns.barplot(data = means, x = \"employed\", y = \"mean\", hue = \"group\")"
   ]
  },
  {
   "attachments": {},
   "cell_type": "markdown",
   "metadata": {},
   "source": [
    "Calibration:\n",
    "\n",
    "From the two graphs above it I am not sure if my model is calibrated. The reason why I think it might not be is because in the bar graph above, for individuals that are employed the model predicts them to be employed significantly more for white people than for black people."
   ]
  },
  {
   "attachments": {},
   "cell_type": "markdown",
   "metadata": {},
   "source": [
    "# Concluding Discussion\n",
    "\n",
    "What groups of people could stand to benefit from a system that is able to predict the label you predicted, such as income or employment status? For example, what kinds of companies might want to buy your model for commercial use?\n",
    "\n",
    "- Insurance companies or banks are the first ones that come to mind that could benefit from a model like this. Any company who benefits from knowing how much if any income is a person making would benefit from a model such as this one.\n",
    "\n",
    "Based on your bias audit, what could be the impact of deploying your model for large-scale prediction in commercial or governmental settings?\n",
    "\n",
    "- According to the data, black individuals are less likely to be employed than white individuals. The model has picked up on this trend however I believe that incorporating this trend into a model used in a large-scale prediction would be detrimental to black individuals as a whole. The model would perpetuate negative biases about black peoples employment which would be a large issue. \n",
    "\n",
    "Based on your bias audit, do you feel that your model displays problematic bias? What kind (calibration, error rate, etc)?\n",
    "\n",
    "- I believe my model's error rate reflects the population in the testing data. However I feel that in this data there are biases that the model has picked up on. I also feel that there can be a calibration issue with my model.\n",
    "\n",
    "Beyond bias, are there other potential problems associated with deploying your model that make you uncomfortable? How would you propose addressing some of these problems?\n",
    "\n",
    "- I feel uncomfortable with the fact that I have only done a limited number of tests for potential biases in my model. There could definitely be more and I would not feel comfortable releasing this model to the world with further testing for biases."
   ]
  }
 ],
 "metadata": {
  "interpreter": {
   "hash": "aee8b7b246df8f9039afb4144a1f6fd8d2ca17a180786b69acc140d282b71a49"
  },
  "kernelspec": {
   "display_name": "Python 3.8.0 64-bit",
   "name": "python3"
  },
  "language_info": {
   "codemirror_mode": {
    "name": "ipython",
    "version": 3
   },
   "file_extension": ".py",
   "mimetype": "text/x-python",
   "name": "python",
   "nbconvert_exporter": "python",
   "pygments_lexer": "ipython3",
   "version": "3.8.0"
  },
  "orig_nbformat": 4
 },
 "nbformat": 4,
 "nbformat_minor": 2
}
