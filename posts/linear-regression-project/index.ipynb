{
 "cells": [
  {
   "attachments": {},
   "cell_type": "markdown",
   "metadata": {},
   "source": [
    "---\n",
    "title: Linear Regression Blog Post\n",
    "author: Dean Smith\n",
    "date: '2023-5-2'\n",
    "image: \"image.jpg\"\n",
    "description: \"In this blog I show the effectiveness of least-squares linear regression and LASSO regularization\"\n",
    "format: html\n",
    "---"
   ]
  },
  {
   "attachments": {},
   "cell_type": "markdown",
   "metadata": {},
   "source": [
    "# Linear Regression"
   ]
  },
  {
   "attachments": {},
   "cell_type": "markdown",
   "metadata": {},
   "source": [
    "In this blog post, I will implement least-squares linear regression and show its effectiveness along with experimenting on datasets with many features."
   ]
  },
  {
   "attachments": {},
   "cell_type": "markdown",
   "metadata": {},
   "source": [
    "First, I define some functions I will use later and import my packages along with my source code which can be fonud at: "
   ]
  },
  {
   "cell_type": "code",
   "execution_count": 825,
   "metadata": {},
   "outputs": [],
   "source": [
    "import numpy as np\n",
    "from matplotlib import pyplot as plt\n",
    "from LinearRegression import LinearRegression\n",
    "\n",
    "def pad(X):\n",
    "    return np.append(X, np.ones((X.shape[0], 1)), 1)\n",
    "\n",
    "def LR_data(n_train = 100, n_val = 100, p_features = 1, noise = .1, w = None):\n",
    "    if w is None: \n",
    "        w = np.random.rand(p_features + 1) + .2\n",
    "    \n",
    "    X_train = np.random.rand(n_train, p_features)\n",
    "    y_train = pad(X_train)@w + noise*np.random.randn(n_train)\n",
    "\n",
    "    X_val = np.random.rand(n_val, p_features)\n",
    "    y_val = pad(X_val)@w + noise*np.random.randn(n_val)\n",
    "    \n",
    "    return X_train, y_train, X_val, y_val"
   ]
  },
  {
   "attachments": {},
   "cell_type": "markdown",
   "metadata": {},
   "source": [
    "Next, I randomly create my dataset using the LR_data function defined in the cell above. With this dataset I use one feature in p_features so the data is easy to visualize and the implementation is simple."
   ]
  },
  {
   "cell_type": "code",
   "execution_count": 826,
   "metadata": {},
   "outputs": [
    {
     "data": {
      "image/png": "[encoded data removed]",
      "text/plain": [
       "<Figure size 432x288 with 2 Axes>"
      ]
     },
     "metadata": {
      "needs_background": "light"
     },
     "output_type": "display_data"
    }
   ],
   "source": [
    "n_train = 100\n",
    "n_val = 100\n",
    "p_features = 1\n",
    "noise = 0.2\n",
    "\n",
    "# create some data\n",
    "X_train, y_train, X_val, y_val = LR_data(n_train, n_val, p_features, noise)\n",
    "\n",
    "# plot it\n",
    "fig, axarr = plt.subplots(1, 2, sharex = True, sharey = True)\n",
    "axarr[0].scatter(X_train, y_train)\n",
    "axarr[1].scatter(X_val, y_val)\n",
    "labs = axarr[0].set(title = \"Training\", xlabel = \"x\", ylabel = \"y\")\n",
    "labs = axarr[1].set(title = \"Validation\", xlabel = \"x\")\n",
    "plt.tight_layout()"
   ]
  },
  {
   "attachments": {},
   "cell_type": "markdown",
   "metadata": {},
   "source": [
    "Now, I will define my models LR and LR2 to demonstrate the functionality of the least-squares linear regression and linear regression with gradient descent. As we can see, both produce the same weights along with training and validation score."
   ]
  },
  {
   "cell_type": "code",
   "execution_count": 827,
   "metadata": {},
   "outputs": [
    {
     "name": "stdout",
     "output_type": "stream",
     "text": [
      "[1.02648217 1.09309375]\n",
      "Training score = 0.7294\n",
      "Validation score = 0.6914\n",
      "[1.02648217 1.09309375]\n",
      "Training score = 0.7294\n",
      "Validation score = 0.6914\n"
     ]
    }
   ],
   "source": [
    "\n",
    "\n",
    "LR = LinearRegression()\n",
    "\n",
    "LR.fit_analytic(X_train, y_train) # I used the analytical formula as my default fit method\n",
    "\n",
    "print(LR.w)\n",
    "\n",
    "print(f\"Training score = {LR.score(X_train, y_train).round(4)}\")\n",
    "print(f\"Validation score = {LR.score(X_val, y_val).round(4)}\")\n",
    "\n",
    "LR2 = LinearRegression()\n",
    "\n",
    "LR2.fit_gradient(X_train, y_train, 0.005, 300)\n",
    "\n",
    "print(LR2.w)\n",
    "\n",
    "print(f\"Training score = {LR2.score(X_train, y_train).round(4)}\")\n",
    "print(f\"Validation score = {LR2.score(X_val, y_val).round(4)}\")\n"
   ]
  },
  {
   "attachments": {},
   "cell_type": "markdown",
   "metadata": {},
   "source": [
    "Here is a plot of the progression for the training loss of my model I trained with gradient descent."
   ]
  },
  {
   "cell_type": "code",
   "execution_count": 828,
   "metadata": {},
   "outputs": [
    {
     "data": {
      "image/png": "[encoded data removed]",
      "text/plain": [
       "<Figure size 432x288 with 1 Axes>"
      ]
     },
     "metadata": {
      "needs_background": "light"
     },
     "output_type": "display_data"
    }
   ],
   "source": [
    "plt.plot(LR2.score_history)\n",
    "labels = plt.gca().set(xlabel = \"Iteration\", ylabel = \"Score\")\n"
   ]
  },
  {
   "attachments": {},
   "cell_type": "markdown",
   "metadata": {},
   "source": [
    "Next, I will demonstrate the effectiveness of linear regression as the number of features in a dataset becomes larger. To do this, I have set up an algorithm to train a model and log its training and validation data for all number of features 1-99 (or n_train - 1). I have also printed out the last five validation scores to show variance of the model when the number features become increasingly larger."
   ]
  },
  {
   "cell_type": "code",
   "execution_count": 829,
   "metadata": {},
   "outputs": [
    {
     "name": "stdout",
     "output_type": "stream",
     "text": [
      "[0.6426486631930868, 0.6025571541658967, -0.04697862335287928, 0.7265468875728334, -0.01049629698831911]\n"
     ]
    }
   ],
   "source": [
    "n_train = 100\n",
    "n_val = 100\n",
    "noise = 0.2\n",
    "\n",
    "num_features = range(1,100)\n",
    "train_score = []\n",
    "val_score = []\n",
    "\n",
    "for r in range(1,100):\n",
    "    p_features = r\n",
    "    X_train, y_train, X_val, y_val = LR_data(n_train, n_val, p_features, noise)\n",
    "    LR3 = LinearRegression()\n",
    "    LR3.fit_analytic(X_train, y_train)\n",
    "    train_score.append(LR3.score(X_train, y_train))\n",
    "    val_score.append(LR3.score(X_val, y_val))\n",
    "\n",
    "print(val_score[-5:])\n",
    "\n",
    "\n",
    "\n",
    "\n",
    "    "
   ]
  },
  {
   "attachments": {},
   "cell_type": "markdown",
   "metadata": {},
   "source": [
    "Here, I plot the results from my algorithm above. It makes sense that the training data would plateu as the number of features becomes larger and the validation data becomes more varied because this is a strong sign of overfitting."
   ]
  },
  {
   "cell_type": "code",
   "execution_count": 830,
   "metadata": {},
   "outputs": [
    {
     "data": {
      "image/png": "[encoded data removed]",
      "text/plain": [
       "<Figure size 432x288 with 1 Axes>"
      ]
     },
     "metadata": {
      "needs_background": "light"
     },
     "output_type": "display_data"
    }
   ],
   "source": [
    "plt.plot(num_features, train_score, label='training data')\n",
    "plt.plot(num_features, val_score, label=\"validation data\")\n",
    "xlab = plt.xlabel(\"Number of Features\")\n",
    "ylab = plt.ylabel(\"Score\")"
   ]
  },
  {
   "attachments": {},
   "cell_type": "markdown",
   "metadata": {},
   "source": [
    "Finally, I want to show the effectiveness of LASSO regularization which uses a regularizing term to combat overfitting in overparameterized problems."
   ]
  },
  {
   "cell_type": "code",
   "execution_count": 831,
   "metadata": {},
   "outputs": [
    {
     "data": {
      "text/plain": [
       "0.7148639800717893"
      ]
     },
     "execution_count": 831,
     "metadata": {},
     "output_type": "execute_result"
    }
   ],
   "source": [
    "from sklearn.linear_model import Lasso\n",
    "L = Lasso(alpha = 0.001)\n",
    "\n",
    "p_features = n_train - 1\n",
    "X_train, y_train, X_val, y_val = LR_data(n_train, n_val, p_features, noise)\n",
    "L.fit(X_train, y_train)\n",
    "\n",
    "L.score(X_val, y_val)\n"
   ]
  },
  {
   "attachments": {},
   "cell_type": "markdown",
   "metadata": {},
   "source": [
    "Out of my own curiousity, I wanted to see how LASSO regularization performs against the linear regression model as the number of features increases."
   ]
  },
  {
   "cell_type": "code",
   "execution_count": 832,
   "metadata": {},
   "outputs": [
    {
     "name": "stdout",
     "output_type": "stream",
     "text": [
      "[0.678936729525182, 0.7246032101771086, 0.8593997620941247, 0.8602776975346242, 0.7714380225770578]\n"
     ]
    }
   ],
   "source": [
    "n_train = 100\n",
    "n_val = 100\n",
    "noise = 0.2\n",
    "\n",
    "num_features = range(1,100)\n",
    "train_score = []\n",
    "val_score = []\n",
    "\n",
    "for r in range(1,100):\n",
    "    p_features = r\n",
    "    X_train, y_train, X_val, y_val = LR_data(n_train, n_val, p_features, noise)\n",
    "    LR3 = Lasso(alpha = 0.001)\n",
    "    LR3.fit(X_train, y_train)\n",
    "    train_score.append(LR3.score(X_train, y_train))\n",
    "    val_score.append(LR3.score(X_val, y_val))\n",
    "\n",
    "print(val_score[-5:])"
   ]
  },
  {
   "attachments": {},
   "cell_type": "markdown",
   "metadata": {},
   "source": [
    "As we can see in the graph below, LASSO regularization significantly reduces the variance in the validation data as the number of features in a dataset becomes larger."
   ]
  },
  {
   "cell_type": "code",
   "execution_count": 833,
   "metadata": {},
   "outputs": [
    {
     "data": {
      "image/png": "[encoded data removed]",
      "text/plain": [
       "<Figure size 432x288 with 1 Axes>"
      ]
     },
     "metadata": {
      "needs_background": "light"
     },
     "output_type": "display_data"
    }
   ],
   "source": [
    "plt.plot(num_features, train_score, label='training data')\n",
    "plt.plot(num_features, val_score, label=\"validation data\")\n",
    "xlab = plt.xlabel(\"Number of Features\")\n",
    "ylab = plt.ylabel(\"Score\")"
   ]
  },
  {
   "attachments": {},
   "cell_type": "markdown",
   "metadata": {},
   "source": [
    "To conclude, we were able to demonstrate the effectiveness of the least-squares linear regression in comparison with linear regression with gradient descent. We showed the danger of overfitting with linear regression as the amount of features in a dataset becomes larger compared the amount of data points. Lastly, we showed the effectiveness of LASO regularization which does a great job at minimizing the overfitting effects seen in linear regression when the number of features becomes too large relative to the amount of data points."
   ]
  },
  {
   "cell_type": "markdown",
   "metadata": {},
   "source": []
  }
 ],
 "metadata": {
  "interpreter": {
   "hash": "aee8b7b246df8f9039afb4144a1f6fd8d2ca17a180786b69acc140d282b71a49"
  },
  "kernelspec": {
   "display_name": "Python 3.8.0 64-bit",
   "name": "python3"
  },
  "language_info": {
   "codemirror_mode": {
    "name": "ipython",
    "version": 3
   },
   "file_extension": ".py",
   "mimetype": "text/x-python",
   "name": "python",
   "nbconvert_exporter": "python",
   "pygments_lexer": "ipython3",
   "version": "3.8.0"
  },
  "orig_nbformat": 4
 },
 "nbformat": 4,
 "nbformat_minor": 2
}
