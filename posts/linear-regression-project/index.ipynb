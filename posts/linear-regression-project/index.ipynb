{
 "cells": [
  {
   "attachments": {},
   "cell_type": "markdown",
   "metadata": {},
   "source": [
    "# Linear Regression"
   ]
  },
  {
   "cell_type": "code",
   "execution_count": 37,
   "metadata": {},
   "outputs": [],
   "source": [
    "import numpy as np\n",
    "class LogisticRegression:\n",
    "\n",
    "    def __init__(self):\n",
    "        np.random.seed(123456)\n",
    "        self.w = np.random.rand(2)\n",
    "        self.loss_history = []\n",
    "        self.score_history = []\n",
    "        self.prev_loss = np.inf\n",
    "\n",
    "    def fit_analytic(self, X, y):\n",
    "        self.w = np.linalg.inv(X.T@X)@X.T@y\n",
    "\n",
    "    def fit_gradient(self, X, y, alpha, max_iter):\n",
    "        P = X.T@X\n",
    "        q = X.T@y\n",
    "\n",
    "        self.score_history.append(self.score(X,y))\n",
    "\n",
    "        for i in range(max_iter):\n",
    "            gradient = 2*(P@self.w - q)\n",
    "            self.w -= alpha*gradient\n",
    "\n",
    "            new_score = self.score(X,y)\n",
    "\n",
    "            self.score_history.append(new_score)\n",
    "\n",
    "\n",
    "    def predict(self, X):\n",
    "        return np.dot(X, self.w)\n",
    "\n",
    "    def score(self, X, y):\n",
    "        y_bar = np.full(shape=len(y), fill_value=(1/len(y))*sum(y), dtype=float)\n",
    "\n",
    "        return sum((self.predict(X) - y) ** 2) / sum((y_bar - y) ** 2)\n"
   ]
  },
  {
   "cell_type": "code",
   "execution_count": 38,
   "metadata": {},
   "outputs": [],
   "source": [
    "import numpy as np\n",
    "from matplotlib import pyplot as plt\n",
    "\n",
    "def pad(X):\n",
    "    return np.append(X, np.ones((X.shape[0], 1)), 1)\n",
    "\n",
    "def LR_data(n_train = 100, n_val = 100, p_features = 1, noise = .1, w = None):\n",
    "    if w is None: \n",
    "        w = np.random.rand(p_features + 1) + .2\n",
    "    \n",
    "    X_train = np.random.rand(n_train, p_features)\n",
    "    y_train = pad(X_train)@w + noise*np.random.randn(n_train)\n",
    "\n",
    "    X_val = np.random.rand(n_val, p_features)\n",
    "    y_val = pad(X_val)@w + noise*np.random.randn(n_val)\n",
    "    \n",
    "    return X_train, y_train, X_val, y_val"
   ]
  },
  {
   "cell_type": "code",
   "execution_count": 39,
   "metadata": {},
   "outputs": [],
   "source": [
    "n_train = 100\n",
    "n_val = 100\n",
    "p_features = 2\n",
    "noise = 0.2\n",
    "\n",
    "# create some data\n",
    "X_train, y_train, X_val, y_val = LR_data(n_train, n_val, p_features, noise)"
   ]
  },
  {
   "cell_type": "code",
   "execution_count": 40,
   "metadata": {},
   "outputs": [
    {
     "name": "stdout",
     "output_type": "stream",
     "text": [
      "[1.61670494 1.02074476]\n",
      "Training score = 0.4913\n",
      "Validation score = 0.523\n",
      "[1.61670494 1.02074476]\n",
      "Training score = 0.4913\n",
      "Validation score = 0.523\n"
     ]
    }
   ],
   "source": [
    "LR = LogisticRegression()\n",
    "\n",
    "LR.fit_analytic(X_train, y_train) # I used the analytical formula as my default fit method\n",
    "\n",
    "print(LR.w)\n",
    "\n",
    "print(f\"Training score = {LR.score(X_train, y_train).round(4)}\")\n",
    "print(f\"Validation score = {LR.score(X_val, y_val).round(4)}\")\n",
    "\n",
    "LR = LogisticRegression()\n",
    "\n",
    "LR.fit_gradient(X_train, y_train, 0.01, 1000)\n",
    "\n",
    "print(LR.w)\n",
    "\n",
    "print(f\"Training score = {LR.score(X_train, y_train).round(4)}\")\n",
    "print(f\"Validation score = {LR.score(X_val, y_val).round(4)}\")\n"
   ]
  },
  {
   "cell_type": "code",
   "execution_count": null,
   "metadata": {},
   "outputs": [],
   "source": [
    "\n"
   ]
  },
  {
   "cell_type": "markdown",
   "metadata": {},
   "source": []
  }
 ],
 "metadata": {
  "interpreter": {
   "hash": "aee8b7b246df8f9039afb4144a1f6fd8d2ca17a180786b69acc140d282b71a49"
  },
  "kernelspec": {
   "display_name": "Python 3.8.0 64-bit",
   "name": "python3"
  },
  "language_info": {
   "codemirror_mode": {
    "name": "ipython",
    "version": 3
   },
   "file_extension": ".py",
   "mimetype": "text/x-python",
   "name": "python",
   "nbconvert_exporter": "python",
   "pygments_lexer": "ipython3",
   "version": "3.8.0"
  },
  "orig_nbformat": 4
 },
 "nbformat": 4,
 "nbformat_minor": 2
}
